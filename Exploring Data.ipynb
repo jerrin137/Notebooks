{
 "cells": [
  {
   "cell_type": "code",
   "execution_count": 60,
   "metadata": {
    "collapsed": true
   },
   "outputs": [],
   "source": [
    "%matplotlib inline\n",
    "import matplotlib.pyplot as plt\n",
    "import numpy as np\n",
    "import pandas as pd"
   ]
  },
  {
   "cell_type": "code",
   "execution_count": 61,
   "metadata": {
    "collapsed": true
   },
   "outputs": [],
   "source": [
    "from scipy.io.idl import readsav"
   ]
  },
  {
   "cell_type": "code",
   "execution_count": 62,
   "metadata": {
    "collapsed": true
   },
   "outputs": [],
   "source": [
    "import savReaderWriter as spss"
   ]
  },
  {
   "cell_type": "code",
   "execution_count": 63,
   "metadata": {
    "collapsed": false
   },
   "outputs": [],
   "source": [
    "raw_data2 = spss.SavReader('GSS2014merged_R6.sav', returnHeader = True, rawMode=True)"
   ]
  },
  {
   "cell_type": "code",
   "execution_count": 67,
   "metadata": {
    "collapsed": true
   },
   "outputs": [],
   "source": [
    "raw_data_list = list(raw_data) # this is slow\n",
    "data = pd.DataFrame(raw_data_list) # this is slow\n",
    "data = data.rename(columns=data.loc[0]).iloc[1:] # setting columnheaders, this is slow too."
   ]
  },
  {
   "cell_type": "code",
   "execution_count": 68,
   "metadata": {
    "collapsed": false
   },
   "outputs": [
    {
     "data": {
      "text/html": [
       "<div>\n",
       "<table border=\"1\" class=\"dataframe\">\n",
       "  <thead>\n",
       "    <tr style=\"text-align: right;\">\n",
       "      <th></th>\n",
       "      <th>b'year'</th>\n",
       "      <th>b'id'</th>\n",
       "      <th>b'wrkstat'</th>\n",
       "      <th>b'hrs1'</th>\n",
       "      <th>b'hrs2'</th>\n",
       "      <th>b'evwork'</th>\n",
       "      <th>b'wrkslf'</th>\n",
       "      <th>b'wrkgovt'</th>\n",
       "      <th>b'OCC10'</th>\n",
       "      <th>b'prestg10'</th>\n",
       "      <th>...</th>\n",
       "      <th>b'CLSGAYW'</th>\n",
       "      <th>b'OTHGAYW'</th>\n",
       "      <th>b'CLSNJOBM'</th>\n",
       "      <th>b'OTHNJOBM'</th>\n",
       "      <th>b'CLSNJOBW'</th>\n",
       "      <th>b'OTHNJOBW'</th>\n",
       "      <th>b'CLSPOLM'</th>\n",
       "      <th>b'OTHPOLM'</th>\n",
       "      <th>b'CLSPOLW'</th>\n",
       "      <th>b'OTHPOLW'</th>\n",
       "    </tr>\n",
       "  </thead>\n",
       "  <tbody>\n",
       "    <tr>\n",
       "      <th>1</th>\n",
       "      <td>2014</td>\n",
       "      <td>11304</td>\n",
       "      <td>1</td>\n",
       "      <td>40</td>\n",
       "      <td>-1</td>\n",
       "      <td>0</td>\n",
       "      <td>2</td>\n",
       "      <td>2</td>\n",
       "      <td>1010</td>\n",
       "      <td>63</td>\n",
       "      <td>...</td>\n",
       "      <td>0</td>\n",
       "      <td>1</td>\n",
       "      <td>1</td>\n",
       "      <td>0</td>\n",
       "      <td>0</td>\n",
       "      <td>0</td>\n",
       "      <td>-1</td>\n",
       "      <td>-1</td>\n",
       "      <td>-1</td>\n",
       "      <td>-1</td>\n",
       "    </tr>\n",
       "    <tr>\n",
       "      <th>2</th>\n",
       "      <td>2014</td>\n",
       "      <td>11304</td>\n",
       "      <td>1</td>\n",
       "      <td>40</td>\n",
       "      <td>-1</td>\n",
       "      <td>0</td>\n",
       "      <td>2</td>\n",
       "      <td>2</td>\n",
       "      <td>1010</td>\n",
       "      <td>63</td>\n",
       "      <td>...</td>\n",
       "      <td>0</td>\n",
       "      <td>1</td>\n",
       "      <td>1</td>\n",
       "      <td>0</td>\n",
       "      <td>0</td>\n",
       "      <td>0</td>\n",
       "      <td>-1</td>\n",
       "      <td>-1</td>\n",
       "      <td>-1</td>\n",
       "      <td>-1</td>\n",
       "    </tr>\n",
       "    <tr>\n",
       "      <th>3</th>\n",
       "      <td>2014</td>\n",
       "      <td>11304</td>\n",
       "      <td>1</td>\n",
       "      <td>40</td>\n",
       "      <td>-1</td>\n",
       "      <td>0</td>\n",
       "      <td>2</td>\n",
       "      <td>2</td>\n",
       "      <td>1010</td>\n",
       "      <td>63</td>\n",
       "      <td>...</td>\n",
       "      <td>0</td>\n",
       "      <td>1</td>\n",
       "      <td>1</td>\n",
       "      <td>0</td>\n",
       "      <td>0</td>\n",
       "      <td>0</td>\n",
       "      <td>-1</td>\n",
       "      <td>-1</td>\n",
       "      <td>-1</td>\n",
       "      <td>-1</td>\n",
       "    </tr>\n",
       "    <tr>\n",
       "      <th>4</th>\n",
       "      <td>2014</td>\n",
       "      <td>11304</td>\n",
       "      <td>1</td>\n",
       "      <td>40</td>\n",
       "      <td>-1</td>\n",
       "      <td>0</td>\n",
       "      <td>2</td>\n",
       "      <td>2</td>\n",
       "      <td>1010</td>\n",
       "      <td>63</td>\n",
       "      <td>...</td>\n",
       "      <td>0</td>\n",
       "      <td>1</td>\n",
       "      <td>1</td>\n",
       "      <td>0</td>\n",
       "      <td>0</td>\n",
       "      <td>0</td>\n",
       "      <td>-1</td>\n",
       "      <td>-1</td>\n",
       "      <td>-1</td>\n",
       "      <td>-1</td>\n",
       "    </tr>\n",
       "    <tr>\n",
       "      <th>5</th>\n",
       "      <td>2014</td>\n",
       "      <td>11304</td>\n",
       "      <td>1</td>\n",
       "      <td>40</td>\n",
       "      <td>-1</td>\n",
       "      <td>0</td>\n",
       "      <td>2</td>\n",
       "      <td>2</td>\n",
       "      <td>1010</td>\n",
       "      <td>63</td>\n",
       "      <td>...</td>\n",
       "      <td>0</td>\n",
       "      <td>1</td>\n",
       "      <td>1</td>\n",
       "      <td>0</td>\n",
       "      <td>0</td>\n",
       "      <td>0</td>\n",
       "      <td>-1</td>\n",
       "      <td>-1</td>\n",
       "      <td>-1</td>\n",
       "      <td>-1</td>\n",
       "    </tr>\n",
       "  </tbody>\n",
       "</table>\n",
       "<p>5 rows × 970 columns</p>\n",
       "</div>"
      ],
      "text/plain": [
       "  b'year'  b'id' b'wrkstat' b'hrs1' b'hrs2' b'evwork' b'wrkslf' b'wrkgovt'  \\\n",
       "1    2014  11304          1      40      -1         0         2          2   \n",
       "2    2014  11304          1      40      -1         0         2          2   \n",
       "3    2014  11304          1      40      -1         0         2          2   \n",
       "4    2014  11304          1      40      -1         0         2          2   \n",
       "5    2014  11304          1      40      -1         0         2          2   \n",
       "\n",
       "  b'OCC10' b'prestg10'    ...     b'CLSGAYW' b'OTHGAYW' b'CLSNJOBM'  \\\n",
       "1     1010          63    ...              0          1           1   \n",
       "2     1010          63    ...              0          1           1   \n",
       "3     1010          63    ...              0          1           1   \n",
       "4     1010          63    ...              0          1           1   \n",
       "5     1010          63    ...              0          1           1   \n",
       "\n",
       "  b'OTHNJOBM' b'CLSNJOBW' b'OTHNJOBW' b'CLSPOLM' b'OTHPOLM' b'CLSPOLW'  \\\n",
       "1           0           0           0         -1         -1         -1   \n",
       "2           0           0           0         -1         -1         -1   \n",
       "3           0           0           0         -1         -1         -1   \n",
       "4           0           0           0         -1         -1         -1   \n",
       "5           0           0           0         -1         -1         -1   \n",
       "\n",
       "  b'OTHPOLW'  \n",
       "1         -1  \n",
       "2         -1  \n",
       "3         -1  \n",
       "4         -1  \n",
       "5         -1  \n",
       "\n",
       "[5 rows x 970 columns]"
      ]
     },
     "execution_count": 68,
     "metadata": {},
     "output_type": "execute_result"
    }
   ],
   "source": [
    "data.head()"
   ]
  },
  {
   "cell_type": "code",
   "execution_count": null,
   "metadata": {
    "collapsed": true
   },
   "outputs": [],
   "source": []
  }
 ],
 "metadata": {
  "kernelspec": {
   "display_name": "Python [conda root]",
   "language": "python",
   "name": "conda-root-py"
  },
  "language_info": {
   "codemirror_mode": {
    "name": "ipython",
    "version": 3
   },
   "file_extension": ".py",
   "mimetype": "text/x-python",
   "name": "python",
   "nbconvert_exporter": "python",
   "pygments_lexer": "ipython3",
   "version": "3.5.2"
  }
 },
 "nbformat": 4,
 "nbformat_minor": 1
}
